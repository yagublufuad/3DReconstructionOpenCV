{
 "cells": [
  {
   "cell_type": "markdown",
   "id": "94876867",
   "metadata": {},
   "source": [
    "# Point Clouds from Stereo images\n"
   ]
  },
  {
   "cell_type": "markdown",
   "id": "accb1cc5",
   "metadata": {},
   "source": [
    "Following libraries need to be installed to run this notebook:\n",
    "numpy, cv2, matplotlib, jupyterlab"
   ]
  },
  {
   "cell_type": "code",
   "execution_count": 1,
   "id": "ae527d06",
   "metadata": {},
   "outputs": [],
   "source": [
    "import numpy as np\n",
    "import cv2\n",
    "import glob\n",
    "import argparse\n",
    "import sys\n",
    "import matplotlib.pyplot as plt\n",
    "from mpl_toolkits.axes_grid1 import make_axes_locatable"
   ]
  },
  {
   "cell_type": "code",
   "execution_count": 2,
   "id": "5b87e8da",
   "metadata": {},
   "outputs": [],
   "source": [
    "'''\n",
    "The function merges point coordinates with colors and write them as a point cloud.\n",
    "\n",
    "source: https://github.com/opencv/opencv/blob/master/samples/python/stereo_match.py\n",
    "'''\n",
    "\n",
    "ply_header = '''ply\n",
    "format ascii 1.0\n",
    "element vertex %(vert_num)d\n",
    "property float x\n",
    "property float y\n",
    "property float z\n",
    "property uchar red\n",
    "property uchar green\n",
    "property uchar blue\n",
    "end_header\n",
    "'''\n",
    "def create_ply(vertices, colors,fname):\n",
    "    colors = colors.reshape(-1, 3)\n",
    "    vertices = np.hstack([vertices.reshape(-1, 3), colors])\n",
    "    with open(fname, 'wb') as f:\n",
    "        f.write((ply_header % dict(vert_num=len(vertices))).encode('utf-8'))\n",
    "        np.savetxt(f, vertices, fmt='%f %f %f %d %d %d ')\n",
    "\n",
    "\n",
    "\n",
    "def downsample_image(image, scaling_factor):\n",
    "    h,w = image.shape[:2]\n",
    "    height_resize, width_resize = int(h/scaling_factor), int(w/scaling_factor)\n",
    "    image = cv2.resize(image, (width_resize, height_resize))\n",
    "    return image\n"
   ]
  },
  {
   "cell_type": "code",
   "execution_count": 3,
   "id": "1b5774fe",
   "metadata": {},
   "outputs": [
    {
     "data": {
      "text/plain": [
       "['data/SonyA7/Scene/right\\\\DSC00062.JPG',\n",
       " 'data/SonyA7/Scene/right\\\\DSC00063.JPG',\n",
       " 'data/SonyA7/Scene/right\\\\DSC00064.JPG',\n",
       " 'data/SonyA7/Scene/right\\\\DSC00065.JPG',\n",
       " 'data/SonyA7/Scene/right\\\\DSC00066.JPG',\n",
       " 'data/SonyA7/Scene/right\\\\DSC00067.JPG',\n",
       " 'data/SonyA7/Scene/right\\\\DSC00068.JPG',\n",
       " 'data/SonyA7/Scene/right\\\\DSC00069.JPG',\n",
       " 'data/SonyA7/Scene/right\\\\DSC00070.JPG',\n",
       " 'data/SonyA7/Scene/right\\\\DSC00071.JPG',\n",
       " 'data/SonyA7/Scene/right\\\\DSC00072.JPG',\n",
       " 'data/SonyA7/Scene/right\\\\DSC00073.JPG',\n",
       " 'data/SonyA7/Scene/right\\\\DSC00074.JPG',\n",
       " 'data/SonyA7/Scene/right\\\\DSC00075.JPG']"
      ]
     },
     "execution_count": 3,
     "metadata": {},
     "output_type": "execute_result"
    }
   ],
   "source": [
    "right_ims = 'data/SonyA7/Scene/right/DSC*.JPG'\n",
    "left_ims = 'data/SonyA7/Scene/left/DSC*.JPG'\n",
    "\n",
    "left_images = glob.glob(left_ims)\n",
    "left_images.sort()\n",
    "right_images = glob.glob(right_ims)\n",
    "right_images.sort()\n",
    "right_images"
   ]
  },
  {
   "cell_type": "markdown",
   "id": "75437eee",
   "metadata": {},
   "source": [
    "## Remapping stereo image pairs"
   ]
  },
  {
   "cell_type": "code",
   "execution_count": 4,
   "id": "8c692456",
   "metadata": {},
   "outputs": [
    {
     "data": {
      "text/plain": [
       "array([[ 1.00000000e+00,  0.00000000e+00,  0.00000000e+00,\n",
       "        -2.68508472e+03],\n",
       "       [ 0.00000000e+00,  1.00000000e+00,  0.00000000e+00,\n",
       "        -3.91953839e+03],\n",
       "       [ 0.00000000e+00,  0.00000000e+00,  0.00000000e+00,\n",
       "         8.03797266e+03],\n",
       "       [ 0.00000000e+00,  0.00000000e+00,  4.65820920e+00,\n",
       "         0.00000000e+00]])"
      ]
     },
     "execution_count": 4,
     "metadata": {},
     "output_type": "execute_result"
    }
   ],
   "source": [
    "cv_file = cv2.FileStorage()\n",
    "cv_file.open('data/OpenCV_Calibrations/stereoMap_Sony_A7_14.06.2023.xml', cv2.FileStorage_READ)\n",
    "\n",
    "stereoMapL_x = cv_file.getNode('stereoMapL_x').mat()\n",
    "stereoMapL_y = cv_file.getNode('stereoMapL_y').mat()\n",
    "stereoMapR_x = cv_file.getNode('stereoMapR_x').mat()\n",
    "stereoMapR_y = cv_file.getNode('stereoMapR_y').mat()\n",
    "Q = cv_file.getNode('q').mat() # 'q' or 'Q' depending on how the file is built\n",
    "Q"
   ]
  },
  {
   "cell_type": "code",
   "execution_count": 5,
   "id": "9d53eabe",
   "metadata": {},
   "outputs": [],
   "source": [
    "for i in range(len(right_images)):\n",
    "    right = cv2.imread(right_images[i])\n",
    "    h,w = right.shape[:2]\n",
    "    left = cv2.imread(left_images[i])\n",
    "\n",
    "    right_remapped = cv2.remap(right, stereoMapR_x, stereoMapR_y, cv2.INTER_LANCZOS4, cv2.BORDER_CONSTANT, 0)\n",
    "    left_remapped = cv2.remap(left, stereoMapL_x, stereoMapL_y, cv2.INTER_LANCZOS4, cv2.BORDER_CONSTANT, 0)\n",
    "\n",
    "    gray_left_remapped = cv2.cvtColor(left_remapped, cv2.COLOR_BGR2GRAY)\n",
    "    gray_right_remapped = cv2.cvtColor(right_remapped, cv2.COLOR_BGR2GRAY)\n",
    "\n",
    "    right_remapped = downsample_image(right_remapped,4)\n",
    "    left_remapped = downsample_image(left_remapped,4)\n",
    "    gray_left_remapped = downsample_image(gray_left_remapped,4)\n",
    "    gray_right_remapped = downsample_image(gray_right_remapped,4)\n",
    "    \n",
    "    dir_str_l = 'data/remapped/SonyA7/left/remapped_left_'+str(right_images[i][-7:-4]) + '.jpg'\n",
    "    dir_str_r = 'data/remapped/SonyA7/right/remapped_right_'+str(right_images[i][-7:-4]) + '.jpg'\n",
    "\n",
    "    cv2.imwrite(dir_str_l, left_remapped)\n",
    "    cv2.imwrite(dir_str_r, right_remapped)\n",
    "    '''\n",
    "    f, (ax1, ax2) = plt.subplots(1,2,figsize=(12,8))\n",
    "    ax1.imshow(left)\n",
    "    ax2.imshow(left_remapped)\n",
    "    '''"
   ]
  },
  {
   "cell_type": "markdown",
   "id": "821b31d3",
   "metadata": {},
   "source": [
    "# Disparity Map generation"
   ]
  },
  {
   "cell_type": "code",
   "execution_count": 6,
   "id": "42f664d8",
   "metadata": {},
   "outputs": [
    {
     "data": {
      "text/plain": [
       "('75', '75')"
      ]
     },
     "execution_count": 6,
     "metadata": {},
     "output_type": "execute_result"
    }
   ],
   "source": [
    "right_rms = 'data/remapped/SonyA7/right/*.jpg'\n",
    "left_rms = 'data/remapped/SonyA7/left/*.jpg'\n",
    "\n",
    "right_images_remapped = glob.glob(right_rms)\n",
    "left_images_remapped = glob.glob(left_rms)\n",
    "right_images_remapped.sort()\n",
    "left_images_remapped.sort()\n",
    "\n",
    "right_images_remapped[-1][-6:-4], left_images_remapped[-1][-6:-4]"
   ]
  },
  {
   "cell_type": "code",
   "execution_count": 7,
   "id": "1635a1f0",
   "metadata": {},
   "outputs": [
    {
     "data": {
      "image/png": "[encoded data removed]",
      "text/plain": [
       "<Figure size 432x288 with 1 Axes>"
      ]
     },
     "metadata": {
      "needs_background": "light"
     },
     "output_type": "display_data"
    }
   ],
   "source": [
    "stereo = cv2.StereoSGBM_create(numDisparities = 512, blockSize = 5, speckleWindowSize = 200, speckleRange = 1)\n",
    "for i in range(len(right_images_remapped)):\n",
    "\n",
    "    gray_left_remapped = cv2.imread(left_images_remapped[i], cv2.IMREAD_GRAYSCALE)\n",
    "    gray_right_remapped = cv2.imread(right_images_remapped[i], cv2.IMREAD_GRAYSCALE)\n",
    "\n",
    "    disparity_map = stereo.compute(gray_left_remapped, gray_right_remapped)\n",
    "\n",
    "# Normalize the values to a range from 0..255 for a grayscale image\n",
    "    disparity_norm = cv2.normalize(disparity_map, disparity_map, alpha=255,\n",
    "                                    beta=0, norm_type=cv2.NORM_MINMAX)\n",
    "    disparity_norm = np.uint8(disparity_norm)\n",
    "    plt.imshow(disparity_norm)\n",
    "#cv2.imshow(\"Disparity\", disparity_SGBM)\n",
    "    dir_map = 'data/disparity_maps/disparity_'+str(left_images_remapped[i][-7:-4]) + '.png'\n",
    "    dir_norm = 'data/disparity_maps/norm_u8/disparity_norm_'+str(left_images_remapped[i][-7:-4]) + '.png'\n",
    "    cv2.imwrite(dir_map, disparity_map)\n",
    "    cv2.imwrite(dir_norm, disparity_norm)"
   ]
  },
  {
   "cell_type": "markdown",
   "id": "0192de30",
   "metadata": {},
   "source": [
    "# Point Cloud Generation"
   ]
  },
  {
   "cell_type": "markdown",
   "id": "891aad11",
   "metadata": {},
   "source": [
    "According to the OpenCV [documentation](https://docs.opencv.org/4.x/d9/d0c/group__calib3d.html#ga1bc1152bd57d63bc524204f21fde6e02), the function that projects disparity map to 3D requires 8-bit unsigned, 16-bit signed, 32-bit signed or 32-bit floating-point disparity image. However, 16-bit signed disparities computed by block-matching algorithms should be divided by 16 and converted to float. "
   ]
  },
  {
   "cell_type": "code",
   "execution_count": 8,
   "id": "0741fa87",
   "metadata": {},
   "outputs": [
    {
     "data": {
      "text/plain": [
       "'data/disparity_maps\\\\disparity_075.png'"
      ]
     },
     "execution_count": 8,
     "metadata": {},
     "output_type": "execute_result"
    }
   ],
   "source": [
    "disps_fn = \"data/disparity_maps/*.png\"\n",
    "disps_remapped = glob.glob(disps_fn)\n",
    "disps_remapped.sort()\n",
    "disps_remapped[-1]"
   ]
  },
  {
   "cell_type": "code",
   "execution_count": 9,
   "id": "fc14799f",
   "metadata": {},
   "outputs": [],
   "source": [
    "for i in range(len(disps_remapped)):\n",
    "    imgL = cv2.imread(left_images_remapped[i]) \n",
    "    imgR = cv2.imread(right_images_remapped[i])\n",
    "\n",
    "    disparity_map = cv2.imread(disps_remapped[i], cv2.IMREAD_GRAYSCALE)\n",
    "    disparity_map = np.float32(np.divide(disparity_map, 16.0))\n",
    "    h,w = imgR.shape[:2]\n",
    "\n",
    "    # Reproject points into 3D\n",
    "    points_3D = cv2.reprojectImageTo3D(disparity_map, Q, handleMissingValues=False)\n",
    "    # Get color of the reprojected points\n",
    "    colors = cv2.cvtColor(imgL, cv2.COLOR_BGR2RGB)\n",
    "\n",
    "    # Filtering points with value 0 (no depth)\n",
    "    mask_map = disparity_map > disparity_map.min()\n",
    "\n",
    "    # Mask colors and points. \n",
    "    output_points = points_3D[mask_map]\n",
    "    output_colors = colors[mask_map]\n",
    "    \n",
    "    pc_dir = 'data/pcs/pointcloud_'+str(left_images_remapped[i][-7:-4])+'.ply'\n",
    "\n",
    "\n",
    "    # Generate point cloud file\n",
    "    create_ply(output_points, output_colors, pc_dir)\n",
    "    "
   ]
  }
 ],
 "metadata": {
  "kernelspec": {
   "display_name": "Python 3",
   "language": "python",
   "name": "python3"
  },
  "language_info": {
   "codemirror_mode": {
    "name": "ipython",
    "version": 3
   },
   "file_extension": ".py",
   "mimetype": "text/x-python",
   "name": "python",
   "nbconvert_exporter": "python",
   "pygments_lexer": "ipython3",
   "version": "3.7.10"
  }
 },
 "nbformat": 4,
 "nbformat_minor": 5
}
